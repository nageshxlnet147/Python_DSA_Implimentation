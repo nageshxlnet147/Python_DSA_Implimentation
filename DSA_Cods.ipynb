{
 "cells": [
  {
   "cell_type": "code",
   "execution_count": 11,
   "metadata": {},
   "outputs": [
    {
     "name": "stdout",
     "output_type": "stream",
     "text": [
      "Before sorted: [4, 8, 3, 9, 1, 2, 8, 7, 14]\n",
      "After sorted: [1, 2, 3, 4, 7, 8, 8, 9, 14]\n"
     ]
    }
   ],
   "source": [
    "#Bubble Sort Implementation: \n",
    "\n",
    "def bubble_sort(l):\n",
    "    print('Before sorted:', l)\n",
    "    swapper = True\n",
    "    while swapper:\n",
    "        swapper = False\n",
    "        for i in range(len(l)-1):\n",
    "            if l[i] > l[i+1]:\n",
    "                swapper = True\n",
    "                l[i], l[i+1] = l[i+1], l[i]\n",
    "    print('After sorted:', l)\n",
    "\n",
    "\n",
    "\n",
    "l = [4, 8, 3, 9, 1, 2, 8, 7, 14]\n",
    "bubble_sort(l)\n"
   ]
  },
  {
   "cell_type": "code",
   "execution_count": 12,
   "metadata": {},
   "outputs": [
    {
     "name": "stdout",
     "output_type": "stream",
     "text": [
      "Before sorted: [4, 8, 3, 9, 1, 2, 8, 7, 14]\n",
      "After sorted: [1, 2, 3, 4, 7, 8, 8, 9, 14]\n"
     ]
    }
   ],
   "source": [
    "# Selection Sort Implementation\n",
    "\n",
    "def selection_sort(l):\n",
    "    step = 0\n",
    "    print('Before sorted:', l)\n",
    "    while step < len(l):\n",
    "        for i in range(step, len(l)):\n",
    "            if l[i] < l[step]:\n",
    "                l[step], l[i] = l[i], l[step]\n",
    "        step += 1\n",
    "    print('After sorted:',l)\n",
    "l = [4, 8, 3, 9, 1, 2, 8, 7, 14]\n",
    "selection_sort(l)"
   ]
  },
  {
   "cell_type": "code",
   "execution_count": 14,
   "metadata": {},
   "outputs": [
    {
     "name": "stdout",
     "output_type": "stream",
     "text": [
      "Before sorted: [4, 8, 3, 9, 1, 2, 8, 7, 14, 5]\n",
      "After sorted: [1, 2, 3, 4, 5, 7, 8, 8, 9, 14]\n"
     ]
    }
   ],
   "source": [
    "# Insertion Sort Implementation\n",
    "\n",
    "def insert_sort(l):\n",
    "    sort = True\n",
    "    print('Before sorted:', l)\n",
    "    while sort:\n",
    "        sort = False\n",
    "        for i in range(1, len(l)):\n",
    "            if l[i] < l[i-1]:\n",
    "                sort = True\n",
    "                l[i-1], l[i] = l[i], l[i-1]\n",
    "    print('After sorted:', l)\n",
    "    \n",
    "l = [4, 8, 3, 9, 1, 2, 8, 7, 14, 5]\n",
    "insert_sort(l)    "
   ]
  },
  {
   "cell_type": "code",
   "execution_count": 28,
   "metadata": {},
   "outputs": [
    {
     "name": "stdout",
     "output_type": "stream",
     "text": [
      "Before sorted: [4, 8, 3, 9, 1, 2, 8, 7, 14, 5]\n",
      "After sorted: [1, 2, 3, 4, 5, 7, 8, 8, 9, 14]\n",
      "\n",
      "========================================\n",
      "\n",
      "Before sorted: [1, 2, 3, 4, 5, 7, 8, 8, 9, 14]\n",
      "After sorted: [14, 9, 8, 8, 7, 5, 4, 3, 2, 1]\n"
     ]
    }
   ],
   "source": [
    "# Basic User Custom sorting techniques for both Ascending and Reverse order\n",
    "\n",
    "# Ascending Order Technique:\n",
    "\n",
    "def sort(l):\n",
    "    print('Before sorted:', l)\n",
    "    for i in range(len(l)):\n",
    "        for j in range(i, len(l)):\n",
    "            if l[i] > l[j]:\n",
    "                l[i], l[j] = l[j], l[i]\n",
    "    print('After sorted:', l)\n",
    "\n",
    "# Reverse Order Technique:\n",
    "\n",
    "def reverse_sort(l):\n",
    "    print('Before sorted:', l)\n",
    "    for i in range(len(l)):\n",
    "        for j in range(len(l)):\n",
    "            if l[i] > l[j]:\n",
    "                l[i], l[j] = l[j], l[i]\n",
    "    print('After sorted:', l)\n",
    "l = [4, 8, 3, 9, 1, 2, 8, 7, 14, 5]\n",
    "sort(l)                     # Ascending Order\n",
    "print('\\n========================================\\n')\n",
    "reverse_sort(l)             # Reverse Order"
   ]
  },
  {
   "cell_type": "code",
   "execution_count": 82,
   "metadata": {},
   "outputs": [
    {
     "name": "stdout",
     "output_type": "stream",
     "text": [
      "[1, 2, 4, 6, 7, 5, 3, 8, 9, 10, 23, 56]\n"
     ]
    }
   ],
   "source": [
    "# Merge Sort of two arrays implementation: This is not 100% sorted correctly\n",
    "\n",
    "def merge_sort(l1, l2):\n",
    "    i, j = 0, 0\n",
    "    merge = []\n",
    "    while i < len(l1) and j < len(l2):\n",
    "        if l1[i] < l2[j]:\n",
    "            merge.append(l1[i])\n",
    "            i += 1\n",
    "        else:\n",
    "            merge.append(l2[j])\n",
    "            j += 1\n",
    "\n",
    "    while i < len(l1):\n",
    "        merge.append(l1[i])\n",
    "        i += 1\n",
    "    while j < len(l2):\n",
    "        merge.append(l2[j])\n",
    "        j += 1\n",
    "    return merge\n",
    "            \n",
    "    \n",
    "l1 = [1,4,6,8,9,23]\n",
    "l2 = [2,7,5,3,10,56]\n",
    "print(merge_sort(l1, l2))"
   ]
  },
  {
   "cell_type": "code",
   "execution_count": 84,
   "metadata": {},
   "outputs": [
    {
     "name": "stdout",
     "output_type": "stream",
     "text": [
      "[1, 2, 3, 4, 5, 6, 7, 8, 9, 10, 23, 45, 56]\n"
     ]
    }
   ],
   "source": [
    "# Merge Sort implementation\n",
    "\n",
    "def merge_sort1(l1, l2):\n",
    "    merge = []\n",
    "    i, j = 0, 0\n",
    "    while i < len(l1) and j < len(l2):\n",
    "        if l1[i] < l2[j]:\n",
    "            merge.append(l1[i])\n",
    "            i += 1\n",
    "        else:\n",
    "            merge.append(l2[j])\n",
    "            j += 1\n",
    "\n",
    "    while i < len(l1):\n",
    "        merge.append(l1[i])\n",
    "        i += 1\n",
    "    while j < len(l2):\n",
    "        merge.append(l2[j])\n",
    "        j += 1\n",
    "    return merge\n",
    "    \n",
    "def divide(l):\n",
    "    if len(l) < 2:\n",
    "        return l[:]\n",
    "    else:\n",
    "        middle = len(l)//2\n",
    "        l1 = divide(l[:middle])\n",
    "        l2 = divide(l[middle:])\n",
    "        return merge_sort1(l1, l2)\n",
    "            \n",
    "    \n",
    "l = [45,1,4,6,8,9,23,2,7,5,3,10,56]\n",
    "\n",
    "print(divide(l))"
   ]
  },
  {
   "cell_type": "code",
   "execution_count": 63,
   "metadata": {},
   "outputs": [
    {
     "name": "stdout",
     "output_type": "stream",
     "text": [
      "The Nth element is: 2\n"
     ]
    }
   ],
   "source": [
    "# Fibonacci series of Nth element\n",
    "\n",
    "def feb(n):\n",
    "    if n == 0:\n",
    "        return 0\n",
    "    elif n == 1:\n",
    "        return 1\n",
    "    else:\n",
    "        return feb(n-1) + feb(n-2)\n",
    "def feb_ru(n):\n",
    "    print(f'The Nth element is: {feb(n)}')\n",
    "\n",
    "n = 3\n",
    "feb_ru(n)"
   ]
  },
  {
   "cell_type": "code",
   "execution_count": 85,
   "metadata": {},
   "outputs": [
    {
     "name": "stdout",
     "output_type": "stream",
     "text": [
      "[1, 2, 3, 4, 5, 6, 7, 8, 9, 10, 23, 45, 56]\n"
     ]
    }
   ],
   "source": [
    "# Quick sort Implementation:\n",
    "\n",
    "def quick_sort(l):\n",
    "    if len(l) < 2:\n",
    "        return l\n",
    "    else:\n",
    "        pivot = l[-1]\n",
    "        smaller, equal, large = [], [], []\n",
    "        for num in l:\n",
    "            if num < pivot:\n",
    "                smaller.append(num)\n",
    "            elif num == pivot:\n",
    "                equal.append(num)\n",
    "            else:\n",
    "                large.append(num)\n",
    "        return quick_sort(smaller) + equal + quick_sort(large)\n",
    "    \n",
    "    \n",
    "l = [45,1,4,6,8,9,23,2,7,5,3,10,56]\n",
    "print(quick_sort(l))"
   ]
  }
 ],
 "metadata": {
  "kernelspec": {
   "display_name": "Python 3",
   "language": "python",
   "name": "python3"
  },
  "language_info": {
   "codemirror_mode": {
    "name": "ipython",
    "version": 3
   },
   "file_extension": ".py",
   "mimetype": "text/x-python",
   "name": "python",
   "nbconvert_exporter": "python",
   "pygments_lexer": "ipython3",
   "version": "3.12.3"
  }
 },
 "nbformat": 4,
 "nbformat_minor": 2
}
